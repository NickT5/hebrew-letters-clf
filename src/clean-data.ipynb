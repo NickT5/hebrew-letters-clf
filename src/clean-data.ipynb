{
 "cells": [
  {
   "cell_type": "markdown",
   "metadata": {},
   "source": [
    "# Clean data (filenames)"
   ]
  },
  {
   "cell_type": "code",
   "execution_count": 1,
   "metadata": {},
   "outputs": [],
   "source": [
    "import os\n",
    "from shutil import copy2"
   ]
  },
  {
   "cell_type": "code",
   "execution_count": 2,
   "metadata": {},
   "outputs": [],
   "source": [
    "from pathlib import Path"
   ]
  },
  {
   "cell_type": "code",
   "execution_count": 3,
   "metadata": {},
   "outputs": [],
   "source": [
    "root_src_dir = Path('..\\data-first-test') # dir with original image files with random names.\n",
    "root_dst_dir = Path('..\\data-dev-test') # destination dir with logical image file names."
   ]
  },
  {
   "cell_type": "markdown",
   "metadata": {},
   "source": [
    "## Copy the folder structure"
   ]
  },
  {
   "cell_type": "code",
   "execution_count": 4,
   "metadata": {},
   "outputs": [],
   "source": [
    "'''\n",
    "- Iterate over existing folders\n",
    "- Build the structure for the new folders based on existing ones\n",
    "- Check, if the new folder structure does not exist\n",
    "- If so, create new folder without files\n",
    "'''\n",
    "def copy_subfolders(src_path, dst_path):\n",
    "    for dirpath, dirnames, filenames in os.walk(src_path):\n",
    "        structure = os.path.join(dst_path, os.path.relpath(dirpath, src_path))\n",
    "        if not os.path.isdir(structure):\n",
    "            os.mkdir(structure)\n",
    "            print(f'mkdir {structure}')\n",
    "        else:\n",
    "            print(f'{structure} does already exits.')"
   ]
  },
  {
   "cell_type": "code",
   "execution_count": 5,
   "metadata": {},
   "outputs": [
    {
     "name": "stdout",
     "output_type": "stream",
     "text": [
      "..\\data-dev-test\\. does already exits.\n",
      "mkdir ..\\data-dev-test\\alef-1\n",
      "mkdir ..\\data-dev-test\\bet-2\n",
      "mkdir ..\\data-dev-test\\dalet-5\n",
      "mkdir ..\\data-dev-test\\gimel-4\n",
      "mkdir ..\\data-dev-test\\he-6\n",
      "mkdir ..\\data-dev-test\\vet-3\n"
     ]
    }
   ],
   "source": [
    "copy_subfolders(root_src_dir, root_dst_dir)"
   ]
  },
  {
   "cell_type": "markdown",
   "metadata": {},
   "source": [
    "## Copy files into another directory."
   ]
  },
  {
   "cell_type": "code",
   "execution_count": 6,
   "metadata": {},
   "outputs": [],
   "source": [
    "''' copy files into dst dir with a filename based on their parent directory name and an index number.'''\n",
    "def copy_files(src_dir, dst_dir):\n",
    "    src_p = Path(src_dir)\n",
    "    dst_p = Path(dst_dir)\n",
    "    letter,_ = os.path.basename(src_dir).split('-')\n",
    "    \n",
    "    for i,filename in enumerate(os.listdir(src_p)):\n",
    "        src = src_p/filename\n",
    "        dst = dst_p/f'{letter}-{i}-t.jpg'\n",
    "        print(f'src: {src} ---> dst: {dst}')\n",
    "        copy2(src, dst)"
   ]
  },
  {
   "cell_type": "code",
   "execution_count": 7,
   "metadata": {},
   "outputs": [],
   "source": [
    "def get_subfolders(root_dir):\n",
    "    return [Path(d.path) for d in os.scandir(root_dir) if d.is_dir() ]"
   ]
  },
  {
   "cell_type": "code",
   "execution_count": 8,
   "metadata": {},
   "outputs": [
    {
     "name": "stdout",
     "output_type": "stream",
     "text": [
      "src: ..\\data-first-test\\alef-1\\1.png ---> dst: ..\\data-dev-test\\alef-1\\alef-0-t.jpg\n",
      "src: ..\\data-first-test\\alef-1\\2.png ---> dst: ..\\data-dev-test\\alef-1\\alef-1-t.jpg\n",
      "src: ..\\data-first-test\\alef-1\\3.png ---> dst: ..\\data-dev-test\\alef-1\\alef-2-t.jpg\n",
      "src: ..\\data-first-test\\alef-1\\4.png ---> dst: ..\\data-dev-test\\alef-1\\alef-3-t.jpg\n",
      "src: ..\\data-first-test\\alef-1\\alef-0-t.jpg ---> dst: ..\\data-dev-test\\alef-1\\alef-4-t.jpg\n",
      "src: ..\\data-first-test\\alef-1\\alef-1-t.jpg ---> dst: ..\\data-dev-test\\alef-1\\alef-5-t.jpg\n",
      "src: ..\\data-first-test\\alef-1\\alef-2-t.jpg ---> dst: ..\\data-dev-test\\alef-1\\alef-6-t.jpg\n",
      "src: ..\\data-first-test\\alef-1\\alef-3-t.jpg ---> dst: ..\\data-dev-test\\alef-1\\alef-7-t.jpg\n",
      "src: ..\\data-first-test\\bet-2\\1.png ---> dst: ..\\data-dev-test\\bet-2\\bet-0-t.jpg\n",
      "src: ..\\data-first-test\\bet-2\\2.png ---> dst: ..\\data-dev-test\\bet-2\\bet-1-t.jpg\n",
      "src: ..\\data-first-test\\bet-2\\3.png ---> dst: ..\\data-dev-test\\bet-2\\bet-2-t.jpg\n",
      "src: ..\\data-first-test\\bet-2\\4.png ---> dst: ..\\data-dev-test\\bet-2\\bet-3-t.jpg\n",
      "src: ..\\data-first-test\\bet-2\\bet-0-t.jpg ---> dst: ..\\data-dev-test\\bet-2\\bet-4-t.jpg\n",
      "src: ..\\data-first-test\\bet-2\\bet-1-t.jpg ---> dst: ..\\data-dev-test\\bet-2\\bet-5-t.jpg\n",
      "src: ..\\data-first-test\\bet-2\\bet-2-t.jpg ---> dst: ..\\data-dev-test\\bet-2\\bet-6-t.jpg\n",
      "src: ..\\data-first-test\\bet-2\\bet-3-t.jpg ---> dst: ..\\data-dev-test\\bet-2\\bet-7-t.jpg\n",
      "src: ..\\data-first-test\\dalet-5\\1.png ---> dst: ..\\data-dev-test\\dalet-5\\dalet-0-t.jpg\n",
      "src: ..\\data-first-test\\dalet-5\\2.png ---> dst: ..\\data-dev-test\\dalet-5\\dalet-1-t.jpg\n",
      "src: ..\\data-first-test\\dalet-5\\3.png ---> dst: ..\\data-dev-test\\dalet-5\\dalet-2-t.jpg\n",
      "src: ..\\data-first-test\\dalet-5\\4.png ---> dst: ..\\data-dev-test\\dalet-5\\dalet-3-t.jpg\n",
      "src: ..\\data-first-test\\dalet-5\\dalet-0-t.jpg ---> dst: ..\\data-dev-test\\dalet-5\\dalet-4-t.jpg\n",
      "src: ..\\data-first-test\\dalet-5\\dalet-1-t.jpg ---> dst: ..\\data-dev-test\\dalet-5\\dalet-5-t.jpg\n",
      "src: ..\\data-first-test\\dalet-5\\dalet-2-t.jpg ---> dst: ..\\data-dev-test\\dalet-5\\dalet-6-t.jpg\n",
      "src: ..\\data-first-test\\dalet-5\\dalet-3-t.jpg ---> dst: ..\\data-dev-test\\dalet-5\\dalet-7-t.jpg\n",
      "src: ..\\data-first-test\\gimel-4\\1.png ---> dst: ..\\data-dev-test\\gimel-4\\gimel-0-t.jpg\n",
      "src: ..\\data-first-test\\gimel-4\\2.png ---> dst: ..\\data-dev-test\\gimel-4\\gimel-1-t.jpg\n",
      "src: ..\\data-first-test\\gimel-4\\3.png ---> dst: ..\\data-dev-test\\gimel-4\\gimel-2-t.jpg\n",
      "src: ..\\data-first-test\\gimel-4\\4.png ---> dst: ..\\data-dev-test\\gimel-4\\gimel-3-t.jpg\n",
      "src: ..\\data-first-test\\gimel-4\\gimel-0-t.jpg ---> dst: ..\\data-dev-test\\gimel-4\\gimel-4-t.jpg\n",
      "src: ..\\data-first-test\\gimel-4\\gimel-1-t.jpg ---> dst: ..\\data-dev-test\\gimel-4\\gimel-5-t.jpg\n",
      "src: ..\\data-first-test\\gimel-4\\gimel-2-t.jpg ---> dst: ..\\data-dev-test\\gimel-4\\gimel-6-t.jpg\n",
      "src: ..\\data-first-test\\gimel-4\\gimel-3-t.jpg ---> dst: ..\\data-dev-test\\gimel-4\\gimel-7-t.jpg\n",
      "src: ..\\data-first-test\\he-6\\1.png ---> dst: ..\\data-dev-test\\he-6\\he-0-t.jpg\n",
      "src: ..\\data-first-test\\he-6\\2.png ---> dst: ..\\data-dev-test\\he-6\\he-1-t.jpg\n",
      "src: ..\\data-first-test\\he-6\\3.png ---> dst: ..\\data-dev-test\\he-6\\he-2-t.jpg\n",
      "src: ..\\data-first-test\\he-6\\4.png ---> dst: ..\\data-dev-test\\he-6\\he-3-t.jpg\n",
      "src: ..\\data-first-test\\he-6\\he-0-t.jpg ---> dst: ..\\data-dev-test\\he-6\\he-4-t.jpg\n",
      "src: ..\\data-first-test\\he-6\\he-1-t.jpg ---> dst: ..\\data-dev-test\\he-6\\he-5-t.jpg\n",
      "src: ..\\data-first-test\\he-6\\he-2-t.jpg ---> dst: ..\\data-dev-test\\he-6\\he-6-t.jpg\n",
      "src: ..\\data-first-test\\he-6\\he-3-t.jpg ---> dst: ..\\data-dev-test\\he-6\\he-7-t.jpg\n",
      "src: ..\\data-first-test\\vet-3\\1.png ---> dst: ..\\data-dev-test\\vet-3\\vet-0-t.jpg\n",
      "src: ..\\data-first-test\\vet-3\\2.png ---> dst: ..\\data-dev-test\\vet-3\\vet-1-t.jpg\n",
      "src: ..\\data-first-test\\vet-3\\3.png ---> dst: ..\\data-dev-test\\vet-3\\vet-2-t.jpg\n",
      "src: ..\\data-first-test\\vet-3\\4.png ---> dst: ..\\data-dev-test\\vet-3\\vet-3-t.jpg\n",
      "src: ..\\data-first-test\\vet-3\\vet-0-t.jpg ---> dst: ..\\data-dev-test\\vet-3\\vet-4-t.jpg\n",
      "src: ..\\data-first-test\\vet-3\\vet-1-t.jpg ---> dst: ..\\data-dev-test\\vet-3\\vet-5-t.jpg\n",
      "src: ..\\data-first-test\\vet-3\\vet-2-t.jpg ---> dst: ..\\data-dev-test\\vet-3\\vet-6-t.jpg\n",
      "src: ..\\data-first-test\\vet-3\\vet-3-t.jpg ---> dst: ..\\data-dev-test\\vet-3\\vet-7-t.jpg\n"
     ]
    }
   ],
   "source": [
    "for src_sf, dst_sf in zip(get_subfolders(root_src_dir), get_subfolders(root_dst_dir)):\n",
    "    copy_files(src_sf, dst_sf)"
   ]
  }
 ],
 "metadata": {
  "kernelspec": {
   "display_name": "Python 3",
   "language": "python",
   "name": "python3"
  },
  "language_info": {
   "codemirror_mode": {
    "name": "ipython",
    "version": 3
   },
   "file_extension": ".py",
   "mimetype": "text/x-python",
   "name": "python",
   "nbconvert_exporter": "python",
   "pygments_lexer": "ipython3",
   "version": "3.7.4"
  }
 },
 "nbformat": 4,
 "nbformat_minor": 2
}
