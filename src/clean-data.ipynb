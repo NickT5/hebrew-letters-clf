{
 "cells": [
  {
   "cell_type": "markdown",
   "metadata": {},
   "source": [
    "# Clean data (filenames)"
   ]
  },
  {
   "cell_type": "code",
   "execution_count": 1,
   "metadata": {},
   "outputs": [],
   "source": [
    "import os\n",
    "from shutil import copy2"
   ]
  },
  {
   "cell_type": "code",
   "execution_count": 2,
   "metadata": {},
   "outputs": [],
   "source": [
    "from pathlib import Path"
   ]
  },
  {
   "cell_type": "code",
   "execution_count": 3,
   "metadata": {},
   "outputs": [],
   "source": [
    "root_src_dir = Path('..\\data-first') # dir with original image files with random names.\n",
    "root_dst_dir = Path('..\\data-dev') # destination dir with logical image file names."
   ]
  },
  {
   "cell_type": "markdown",
   "metadata": {},
   "source": [
    "## Copy the folder structure"
   ]
  },
  {
   "cell_type": "code",
   "execution_count": 4,
   "metadata": {},
   "outputs": [],
   "source": [
    "'''\n",
    "- Iterate over existing folders\n",
    "- Build the structure for the new folders based on existing ones\n",
    "- Check, if the new folder structure does not exist\n",
    "- If so, create new folder without files\n",
    "'''\n",
    "def copy_subfolders(src_path, dst_path):\n",
    "    for dirpath, dirnames, filenames in os.walk(src_path):\n",
    "        structure = os.path.join(dst_path, os.path.relpath(dirpath, src_path))\n",
    "        if not os.path.isdir(structure):\n",
    "            os.mkdir(structure)\n",
    "            print(f'mkdir {structure}')\n",
    "        else:\n",
    "            print(f'{structure} does already exits.')"
   ]
  },
  {
   "cell_type": "code",
   "execution_count": 5,
   "metadata": {},
   "outputs": [
    {
     "name": "stdout",
     "output_type": "stream",
     "text": [
      "..\\data-dev\\. does already exits.\n",
      "..\\data-dev\\alef-1 does already exits.\n",
      "..\\data-dev\\bet-2 does already exits.\n",
      "..\\data-dev\\dalet-5 does already exits.\n",
      "..\\data-dev\\gimel-4 does already exits.\n",
      "..\\data-dev\\he-6 does already exits.\n",
      "..\\data-dev\\vet-3 does already exits.\n"
     ]
    }
   ],
   "source": [
    "copy_subfolders(root_src_dir, root_dst_dir)"
   ]
  },
  {
   "cell_type": "markdown",
   "metadata": {},
   "source": [
    "## Copy files into another directory."
   ]
  },
  {
   "cell_type": "code",
   "execution_count": 6,
   "metadata": {},
   "outputs": [],
   "source": [
    "''' copy files into dst dir with a filename based on their parent directory name and an index number.'''\n",
    "def copy_files(src_dir, dst_dir):\n",
    "    src_p = Path(src_dir)\n",
    "    dst_p = Path(dst_dir)\n",
    "    letter,_ = os.path.basename(src_dir).split('-')\n",
    "    \n",
    "    for i,filename in enumerate(os.listdir(src_p)):\n",
    "        src = src_p/filename\n",
    "        dst = dst_p/f'{letter}-{i}.jpg'\n",
    "        print(f'src: {src} ---> dst: {dst}')\n",
    "        copy2(src, dst)"
   ]
  },
  {
   "cell_type": "code",
   "execution_count": 7,
   "metadata": {},
   "outputs": [],
   "source": [
    "def get_subfolders(root_dir):\n",
    "    return [Path(d.path) for d in os.scandir(root_dir) if d.is_dir() ]"
   ]
  },
  {
   "cell_type": "code",
   "execution_count": 8,
   "metadata": {},
   "outputs": [
    {
     "name": "stdout",
     "output_type": "stream",
     "text": [
      "src: ..\\data-first\\alef-1\\14.png ---> dst: ..\\data-dev\\alef-1\\alef-0.jpg\n",
      "src: ..\\data-first\\alef-1\\15.png ---> dst: ..\\data-dev\\alef-1\\alef-1.jpg\n",
      "src: ..\\data-first\\alef-1\\16.png ---> dst: ..\\data-dev\\alef-1\\alef-2.jpg\n",
      "src: ..\\data-first\\alef-1\\17.png ---> dst: ..\\data-dev\\alef-1\\alef-3.jpg\n",
      "src: ..\\data-first\\alef-1\\18.png ---> dst: ..\\data-dev\\alef-1\\alef-4.jpg\n",
      "src: ..\\data-first\\alef-1\\19.png ---> dst: ..\\data-dev\\alef-1\\alef-5.jpg\n",
      "src: ..\\data-first\\alef-1\\20.png ---> dst: ..\\data-dev\\alef-1\\alef-6.jpg\n",
      "src: ..\\data-first\\alef-1\\alef-0.jpg ---> dst: ..\\data-dev\\alef-1\\alef-7.jpg\n",
      "src: ..\\data-first\\alef-1\\alef-1.jpg ---> dst: ..\\data-dev\\alef-1\\alef-8.jpg\n",
      "src: ..\\data-first\\alef-1\\alef-10.jpg ---> dst: ..\\data-dev\\alef-1\\alef-9.jpg\n",
      "src: ..\\data-first\\alef-1\\alef-11.jpg ---> dst: ..\\data-dev\\alef-1\\alef-10.jpg\n",
      "src: ..\\data-first\\alef-1\\alef-12.jpg ---> dst: ..\\data-dev\\alef-1\\alef-11.jpg\n",
      "src: ..\\data-first\\alef-1\\alef-13.jpg ---> dst: ..\\data-dev\\alef-1\\alef-12.jpg\n",
      "src: ..\\data-first\\alef-1\\alef-14.jpg ---> dst: ..\\data-dev\\alef-1\\alef-13.jpg\n",
      "src: ..\\data-first\\alef-1\\alef-15.jpg ---> dst: ..\\data-dev\\alef-1\\alef-14.jpg\n",
      "src: ..\\data-first\\alef-1\\alef-16.jpg ---> dst: ..\\data-dev\\alef-1\\alef-15.jpg\n",
      "src: ..\\data-first\\alef-1\\alef-17.jpg ---> dst: ..\\data-dev\\alef-1\\alef-16.jpg\n",
      "src: ..\\data-first\\alef-1\\alef-18.jpg ---> dst: ..\\data-dev\\alef-1\\alef-17.jpg\n",
      "src: ..\\data-first\\alef-1\\alef-19.jpg ---> dst: ..\\data-dev\\alef-1\\alef-18.jpg\n",
      "src: ..\\data-first\\alef-1\\alef-20.jpg ---> dst: ..\\data-dev\\alef-1\\alef-19.jpg\n",
      "src: ..\\data-first\\bet-2\\13.png ---> dst: ..\\data-dev\\bet-2\\bet-0.jpg\n",
      "src: ..\\data-first\\bet-2\\14.png ---> dst: ..\\data-dev\\bet-2\\bet-1.jpg\n",
      "src: ..\\data-first\\bet-2\\15.png ---> dst: ..\\data-dev\\bet-2\\bet-2.jpg\n",
      "src: ..\\data-first\\bet-2\\16.png ---> dst: ..\\data-dev\\bet-2\\bet-3.jpg\n",
      "src: ..\\data-first\\bet-2\\17.png ---> dst: ..\\data-dev\\bet-2\\bet-4.jpg\n",
      "src: ..\\data-first\\bet-2\\18.png ---> dst: ..\\data-dev\\bet-2\\bet-5.jpg\n",
      "src: ..\\data-first\\bet-2\\19.png ---> dst: ..\\data-dev\\bet-2\\bet-6.jpg\n",
      "src: ..\\data-first\\bet-2\\20.png ---> dst: ..\\data-dev\\bet-2\\bet-7.jpg\n",
      "src: ..\\data-first\\bet-2\\bet-0.jpg ---> dst: ..\\data-dev\\bet-2\\bet-8.jpg\n",
      "src: ..\\data-first\\bet-2\\bet-1.jpg ---> dst: ..\\data-dev\\bet-2\\bet-9.jpg\n",
      "src: ..\\data-first\\bet-2\\bet-10.jpg ---> dst: ..\\data-dev\\bet-2\\bet-10.jpg\n",
      "src: ..\\data-first\\bet-2\\bet-11.jpg ---> dst: ..\\data-dev\\bet-2\\bet-11.jpg\n",
      "src: ..\\data-first\\bet-2\\bet-12.jpg ---> dst: ..\\data-dev\\bet-2\\bet-12.jpg\n",
      "src: ..\\data-first\\bet-2\\bet-13.jpg ---> dst: ..\\data-dev\\bet-2\\bet-13.jpg\n",
      "src: ..\\data-first\\bet-2\\bet-14.jpg ---> dst: ..\\data-dev\\bet-2\\bet-14.jpg\n",
      "src: ..\\data-first\\bet-2\\bet-15.jpg ---> dst: ..\\data-dev\\bet-2\\bet-15.jpg\n",
      "src: ..\\data-first\\bet-2\\bet-16.jpg ---> dst: ..\\data-dev\\bet-2\\bet-16.jpg\n",
      "src: ..\\data-first\\bet-2\\bet-17.jpg ---> dst: ..\\data-dev\\bet-2\\bet-17.jpg\n",
      "src: ..\\data-first\\bet-2\\bet-18.jpg ---> dst: ..\\data-dev\\bet-2\\bet-18.jpg\n",
      "src: ..\\data-first\\bet-2\\bet-19.jpg ---> dst: ..\\data-dev\\bet-2\\bet-19.jpg\n",
      "src: ..\\data-first\\dalet-5\\1.png ---> dst: ..\\data-dev\\dalet-5\\dalet-0.jpg\n",
      "src: ..\\data-first\\dalet-5\\10.png ---> dst: ..\\data-dev\\dalet-5\\dalet-1.jpg\n",
      "src: ..\\data-first\\dalet-5\\11.png ---> dst: ..\\data-dev\\dalet-5\\dalet-2.jpg\n",
      "src: ..\\data-first\\dalet-5\\12.png ---> dst: ..\\data-dev\\dalet-5\\dalet-3.jpg\n",
      "src: ..\\data-first\\dalet-5\\13.png ---> dst: ..\\data-dev\\dalet-5\\dalet-4.jpg\n",
      "src: ..\\data-first\\dalet-5\\14.png ---> dst: ..\\data-dev\\dalet-5\\dalet-5.jpg\n",
      "src: ..\\data-first\\dalet-5\\15.png ---> dst: ..\\data-dev\\dalet-5\\dalet-6.jpg\n",
      "src: ..\\data-first\\dalet-5\\16.png ---> dst: ..\\data-dev\\dalet-5\\dalet-7.jpg\n",
      "src: ..\\data-first\\dalet-5\\17.png ---> dst: ..\\data-dev\\dalet-5\\dalet-8.jpg\n",
      "src: ..\\data-first\\dalet-5\\18.png ---> dst: ..\\data-dev\\dalet-5\\dalet-9.jpg\n",
      "src: ..\\data-first\\dalet-5\\19.png ---> dst: ..\\data-dev\\dalet-5\\dalet-10.jpg\n",
      "src: ..\\data-first\\dalet-5\\2.png ---> dst: ..\\data-dev\\dalet-5\\dalet-11.jpg\n",
      "src: ..\\data-first\\dalet-5\\20.png ---> dst: ..\\data-dev\\dalet-5\\dalet-12.jpg\n",
      "src: ..\\data-first\\dalet-5\\3.png ---> dst: ..\\data-dev\\dalet-5\\dalet-13.jpg\n",
      "src: ..\\data-first\\dalet-5\\4.png ---> dst: ..\\data-dev\\dalet-5\\dalet-14.jpg\n",
      "src: ..\\data-first\\dalet-5\\5.png ---> dst: ..\\data-dev\\dalet-5\\dalet-15.jpg\n",
      "src: ..\\data-first\\dalet-5\\6.png ---> dst: ..\\data-dev\\dalet-5\\dalet-16.jpg\n",
      "src: ..\\data-first\\dalet-5\\7.png ---> dst: ..\\data-dev\\dalet-5\\dalet-17.jpg\n",
      "src: ..\\data-first\\dalet-5\\8.png ---> dst: ..\\data-dev\\dalet-5\\dalet-18.jpg\n",
      "src: ..\\data-first\\dalet-5\\9.png ---> dst: ..\\data-dev\\dalet-5\\dalet-19.jpg\n",
      "src: ..\\data-first\\gimel-4\\gimel-0.jpg ---> dst: ..\\data-dev\\gimel-4\\gimel-0.jpg\n",
      "src: ..\\data-first\\gimel-4\\gimel-1.jpg ---> dst: ..\\data-dev\\gimel-4\\gimel-1.jpg\n",
      "src: ..\\data-first\\gimel-4\\gimel-10.jpg ---> dst: ..\\data-dev\\gimel-4\\gimel-2.jpg\n",
      "src: ..\\data-first\\gimel-4\\gimel-11.jpg ---> dst: ..\\data-dev\\gimel-4\\gimel-3.jpg\n",
      "src: ..\\data-first\\gimel-4\\gimel-12.jpg ---> dst: ..\\data-dev\\gimel-4\\gimel-4.jpg\n",
      "src: ..\\data-first\\gimel-4\\gimel-13.jpg ---> dst: ..\\data-dev\\gimel-4\\gimel-5.jpg\n",
      "src: ..\\data-first\\gimel-4\\gimel-14.jpg ---> dst: ..\\data-dev\\gimel-4\\gimel-6.jpg\n",
      "src: ..\\data-first\\gimel-4\\gimel-15.jpg ---> dst: ..\\data-dev\\gimel-4\\gimel-7.jpg\n",
      "src: ..\\data-first\\gimel-4\\gimel-16.jpg ---> dst: ..\\data-dev\\gimel-4\\gimel-8.jpg\n",
      "src: ..\\data-first\\gimel-4\\gimel-17.jpg ---> dst: ..\\data-dev\\gimel-4\\gimel-9.jpg\n",
      "src: ..\\data-first\\gimel-4\\gimel-18.jpg ---> dst: ..\\data-dev\\gimel-4\\gimel-10.jpg\n",
      "src: ..\\data-first\\gimel-4\\gimel-19.jpg ---> dst: ..\\data-dev\\gimel-4\\gimel-11.jpg\n",
      "src: ..\\data-first\\gimel-4\\gimel-2.jpg ---> dst: ..\\data-dev\\gimel-4\\gimel-12.jpg\n",
      "src: ..\\data-first\\gimel-4\\gimel-3.jpg ---> dst: ..\\data-dev\\gimel-4\\gimel-13.jpg\n",
      "src: ..\\data-first\\gimel-4\\gimel-4.jpg ---> dst: ..\\data-dev\\gimel-4\\gimel-14.jpg\n",
      "src: ..\\data-first\\gimel-4\\gimel-5.jpg ---> dst: ..\\data-dev\\gimel-4\\gimel-15.jpg\n",
      "src: ..\\data-first\\gimel-4\\gimel-6.jpg ---> dst: ..\\data-dev\\gimel-4\\gimel-16.jpg\n",
      "src: ..\\data-first\\gimel-4\\gimel-7.jpg ---> dst: ..\\data-dev\\gimel-4\\gimel-17.jpg\n",
      "src: ..\\data-first\\gimel-4\\gimel-8.jpg ---> dst: ..\\data-dev\\gimel-4\\gimel-18.jpg\n",
      "src: ..\\data-first\\gimel-4\\gimel-9.jpg ---> dst: ..\\data-dev\\gimel-4\\gimel-19.jpg\n",
      "src: ..\\data-first\\he-6\\1.png ---> dst: ..\\data-dev\\he-6\\he-0.jpg\n",
      "src: ..\\data-first\\he-6\\10.png ---> dst: ..\\data-dev\\he-6\\he-1.jpg\n",
      "src: ..\\data-first\\he-6\\11.png ---> dst: ..\\data-dev\\he-6\\he-2.jpg\n",
      "src: ..\\data-first\\he-6\\12.png ---> dst: ..\\data-dev\\he-6\\he-3.jpg\n",
      "src: ..\\data-first\\he-6\\13.png ---> dst: ..\\data-dev\\he-6\\he-4.jpg\n",
      "src: ..\\data-first\\he-6\\14.png ---> dst: ..\\data-dev\\he-6\\he-5.jpg\n",
      "src: ..\\data-first\\he-6\\15.png ---> dst: ..\\data-dev\\he-6\\he-6.jpg\n",
      "src: ..\\data-first\\he-6\\16.png ---> dst: ..\\data-dev\\he-6\\he-7.jpg\n",
      "src: ..\\data-first\\he-6\\17.png ---> dst: ..\\data-dev\\he-6\\he-8.jpg\n",
      "src: ..\\data-first\\he-6\\18.png ---> dst: ..\\data-dev\\he-6\\he-9.jpg\n",
      "src: ..\\data-first\\he-6\\19.png ---> dst: ..\\data-dev\\he-6\\he-10.jpg\n",
      "src: ..\\data-first\\he-6\\2.png ---> dst: ..\\data-dev\\he-6\\he-11.jpg\n",
      "src: ..\\data-first\\he-6\\20.png ---> dst: ..\\data-dev\\he-6\\he-12.jpg\n",
      "src: ..\\data-first\\he-6\\3.png ---> dst: ..\\data-dev\\he-6\\he-13.jpg\n",
      "src: ..\\data-first\\he-6\\4.png ---> dst: ..\\data-dev\\he-6\\he-14.jpg\n",
      "src: ..\\data-first\\he-6\\5.png ---> dst: ..\\data-dev\\he-6\\he-15.jpg\n",
      "src: ..\\data-first\\he-6\\6.png ---> dst: ..\\data-dev\\he-6\\he-16.jpg\n",
      "src: ..\\data-first\\he-6\\7.png ---> dst: ..\\data-dev\\he-6\\he-17.jpg\n",
      "src: ..\\data-first\\he-6\\8.png ---> dst: ..\\data-dev\\he-6\\he-18.jpg\n",
      "src: ..\\data-first\\he-6\\9.png ---> dst: ..\\data-dev\\he-6\\he-19.jpg\n",
      "src: ..\\data-first\\vet-3\\vet-0.jpg ---> dst: ..\\data-dev\\vet-3\\vet-0.jpg\n",
      "src: ..\\data-first\\vet-3\\vet-1.jpg ---> dst: ..\\data-dev\\vet-3\\vet-1.jpg\n",
      "src: ..\\data-first\\vet-3\\vet-10.jpg ---> dst: ..\\data-dev\\vet-3\\vet-2.jpg\n",
      "src: ..\\data-first\\vet-3\\vet-11.jpg ---> dst: ..\\data-dev\\vet-3\\vet-3.jpg\n",
      "src: ..\\data-first\\vet-3\\vet-12.jpg ---> dst: ..\\data-dev\\vet-3\\vet-4.jpg\n",
      "src: ..\\data-first\\vet-3\\vet-13.jpg ---> dst: ..\\data-dev\\vet-3\\vet-5.jpg\n",
      "src: ..\\data-first\\vet-3\\vet-14.jpg ---> dst: ..\\data-dev\\vet-3\\vet-6.jpg\n",
      "src: ..\\data-first\\vet-3\\vet-15.jpg ---> dst: ..\\data-dev\\vet-3\\vet-7.jpg\n",
      "src: ..\\data-first\\vet-3\\vet-16.jpg ---> dst: ..\\data-dev\\vet-3\\vet-8.jpg\n",
      "src: ..\\data-first\\vet-3\\vet-17.jpg ---> dst: ..\\data-dev\\vet-3\\vet-9.jpg\n",
      "src: ..\\data-first\\vet-3\\vet-18.jpg ---> dst: ..\\data-dev\\vet-3\\vet-10.jpg\n",
      "src: ..\\data-first\\vet-3\\vet-19.jpg ---> dst: ..\\data-dev\\vet-3\\vet-11.jpg\n",
      "src: ..\\data-first\\vet-3\\vet-2.jpg ---> dst: ..\\data-dev\\vet-3\\vet-12.jpg\n",
      "src: ..\\data-first\\vet-3\\vet-3.jpg ---> dst: ..\\data-dev\\vet-3\\vet-13.jpg\n",
      "src: ..\\data-first\\vet-3\\vet-4.jpg ---> dst: ..\\data-dev\\vet-3\\vet-14.jpg\n",
      "src: ..\\data-first\\vet-3\\vet-5.jpg ---> dst: ..\\data-dev\\vet-3\\vet-15.jpg\n",
      "src: ..\\data-first\\vet-3\\vet-6.jpg ---> dst: ..\\data-dev\\vet-3\\vet-16.jpg\n",
      "src: ..\\data-first\\vet-3\\vet-7.jpg ---> dst: ..\\data-dev\\vet-3\\vet-17.jpg\n",
      "src: ..\\data-first\\vet-3\\vet-8.jpg ---> dst: ..\\data-dev\\vet-3\\vet-18.jpg\n",
      "src: ..\\data-first\\vet-3\\vet-9.jpg ---> dst: ..\\data-dev\\vet-3\\vet-19.jpg\n"
     ]
    }
   ],
   "source": [
    "for src_sf, dst_sf in zip(get_subfolders(root_src_dir), get_subfolders(root_dst_dir)):\n",
    "    copy_files(src_sf, dst_sf)"
   ]
  }
 ],
 "metadata": {
  "kernelspec": {
   "display_name": "Python 3",
   "language": "python",
   "name": "python3"
  },
  "language_info": {
   "codemirror_mode": {
    "name": "ipython",
    "version": 3
   },
   "file_extension": ".py",
   "mimetype": "text/x-python",
   "name": "python",
   "nbconvert_exporter": "python",
   "pygments_lexer": "ipython3",
   "version": "3.7.4"
  }
 },
 "nbformat": 4,
 "nbformat_minor": 2
}
